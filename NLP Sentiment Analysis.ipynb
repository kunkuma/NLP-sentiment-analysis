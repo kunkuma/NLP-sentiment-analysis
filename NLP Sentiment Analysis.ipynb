{
 "cells": [
  {
   "cell_type": "markdown",
   "id": "538f412f",
   "metadata": {},
   "source": [
    "# 0. Pip Installations"
   ]
  },
  {
   "cell_type": "code",
   "execution_count": 45,
   "id": "c845b8a2",
   "metadata": {
    "scrolled": true
   },
   "outputs": [
    {
     "name": "stdout",
     "output_type": "stream",
     "text": [
      "Requirement already satisfied: opendatasets in c:\\users\\kunku\\anaconda3\\lib\\site-packages (0.1.22)\n",
      "Requirement already satisfied: kaggle in c:\\users\\kunku\\anaconda3\\lib\\site-packages (from opendatasets) (1.5.16)\n",
      "Requirement already satisfied: tqdm in c:\\users\\kunku\\anaconda3\\lib\\site-packages (from opendatasets) (4.64.1)\n",
      "Requirement already satisfied: click in c:\\users\\kunku\\anaconda3\\lib\\site-packages (from opendatasets) (8.0.4)\n",
      "Requirement already satisfied: colorama in c:\\users\\kunku\\anaconda3\\lib\\site-packages (from click->opendatasets) (0.4.5)\n",
      "Requirement already satisfied: python-slugify in c:\\users\\kunku\\anaconda3\\lib\\site-packages (from kaggle->opendatasets) (5.0.2)\n",
      "Requirement already satisfied: python-dateutil in c:\\users\\kunku\\anaconda3\\lib\\site-packages (from kaggle->opendatasets) (2.8.2)\n",
      "Requirement already satisfied: urllib3 in c:\\users\\kunku\\anaconda3\\lib\\site-packages (from kaggle->opendatasets) (1.26.11)\n",
      "Requirement already satisfied: six>=1.10 in c:\\users\\kunku\\anaconda3\\lib\\site-packages (from kaggle->opendatasets) (1.16.0)\n",
      "Requirement already satisfied: certifi in c:\\users\\kunku\\anaconda3\\lib\\site-packages (from kaggle->opendatasets) (2022.9.14)\n",
      "Requirement already satisfied: requests in c:\\users\\kunku\\anaconda3\\lib\\site-packages (from kaggle->opendatasets) (2.28.1)\n",
      "Requirement already satisfied: bleach in c:\\users\\kunku\\anaconda3\\lib\\site-packages (from kaggle->opendatasets) (4.1.0)\n",
      "Requirement already satisfied: packaging in c:\\users\\kunku\\anaconda3\\lib\\site-packages (from bleach->kaggle->opendatasets) (21.3)\n",
      "Requirement already satisfied: webencodings in c:\\users\\kunku\\anaconda3\\lib\\site-packages (from bleach->kaggle->opendatasets) (0.5.1)\n",
      "Requirement already satisfied: text-unidecode>=1.3 in c:\\users\\kunku\\anaconda3\\lib\\site-packages (from python-slugify->kaggle->opendatasets) (1.3)\n",
      "Requirement already satisfied: charset-normalizer<3,>=2 in c:\\users\\kunku\\anaconda3\\lib\\site-packages (from requests->kaggle->opendatasets) (2.0.4)\n",
      "Requirement already satisfied: idna<4,>=2.5 in c:\\users\\kunku\\anaconda3\\lib\\site-packages (from requests->kaggle->opendatasets) (3.3)\n",
      "Requirement already satisfied: pyparsing!=3.0.5,>=2.0.2 in c:\\users\\kunku\\anaconda3\\lib\\site-packages (from packaging->bleach->kaggle->opendatasets) (3.0.9)\n",
      "Collecting polars\n",
      "  Downloading polars-0.19.3-cp38-abi3-win_amd64.whl (20.5 MB)\n",
      "     ---------------------------------------- 20.5/20.5 MB 2.3 MB/s eta 0:00:00\n",
      "Installing collected packages: polars\n",
      "Successfully installed polars-0.19.3\n"
     ]
    }
   ],
   "source": [
    "!pip install opendatasets\n",
    "!pip install polars"
   ]
  },
  {
   "cell_type": "markdown",
   "id": "570bf379",
   "metadata": {},
   "source": [
    "# 1. Load dataset from kaggle"
   ]
  },
  {
   "cell_type": "code",
   "execution_count": 52,
   "id": "097b6f57",
   "metadata": {},
   "outputs": [
    {
     "name": "stdout",
     "output_type": "stream",
     "text": [
      "Skipping, found downloaded files in \".\\sentiment-analysis-dataset\" (use force=True to force download)\n"
     ]
    }
   ],
   "source": [
    "import opendatasets as od\n",
    "import polars as pl\n",
    "\n",
    "od.download(\"https://www.kaggle.com/datasets/abhi8923shriv/sentiment-analysis-dataset\")\n",
    "file =('sentiment-analysis-dataset/training.1600000.processed.noemoticon.csv')\n",
    "\n",
    "\n",
    "df = pl.read_csv(file,separator=',', encoding='ISO-8859-1')"
   ]
  },
  {
   "cell_type": "code",
   "execution_count": 48,
   "id": "a877fb40",
   "metadata": {},
   "outputs": [
    {
     "data": {
      "text/html": [
       "<div><style>\n",
       ".dataframe > thead > tr > th,\n",
       ".dataframe > tbody > tr > td {\n",
       "  text-align: right;\n",
       "  white-space: pre-wrap;\n",
       "}\n",
       "</style>\n",
       "<small>shape: (5, 6)</small><table border=\"1\" class=\"dataframe\"><thead><tr><th>polarity of tweet </th><th>id of the tweet</th><th>date of the tweet</th><th>query</th><th>user</th><th>text of the tweet </th></tr><tr><td>i64</td><td>i64</td><td>str</td><td>str</td><td>str</td><td>str</td></tr></thead><tbody><tr><td>0</td><td>1467810672</td><td>&quot;Mon Apr 06 22:…</td><td>&quot;NO_QUERY&quot;</td><td>&quot;scotthamilton&quot;</td><td>&quot;is upset that …</td></tr><tr><td>0</td><td>1467810917</td><td>&quot;Mon Apr 06 22:…</td><td>&quot;NO_QUERY&quot;</td><td>&quot;mattycus&quot;</td><td>&quot;@Kenichan I di…</td></tr><tr><td>0</td><td>1467811184</td><td>&quot;Mon Apr 06 22:…</td><td>&quot;NO_QUERY&quot;</td><td>&quot;ElleCTF&quot;</td><td>&quot;my whole body …</td></tr><tr><td>0</td><td>1467811193</td><td>&quot;Mon Apr 06 22:…</td><td>&quot;NO_QUERY&quot;</td><td>&quot;Karoli&quot;</td><td>&quot;@nationwidecla…</td></tr><tr><td>0</td><td>1467811372</td><td>&quot;Mon Apr 06 22:…</td><td>&quot;NO_QUERY&quot;</td><td>&quot;joy_wolf&quot;</td><td>&quot;@Kwesidei not …</td></tr></tbody></table></div>"
      ],
      "text/plain": [
       "shape: (5, 6)\n",
       "┌────────────────────┬─────────────────┬──────────────────────────┬──────────┬───────────────┬─────────────────────────┐\n",
       "│ polarity of tweet  ┆ id of the tweet ┆ date of the tweet        ┆ query    ┆ user          ┆ text of the tweet       │\n",
       "│ ---                ┆ ---             ┆ ---                      ┆ ---      ┆ ---           ┆ ---                     │\n",
       "│ i64                ┆ i64             ┆ str                      ┆ str      ┆ str           ┆ str                     │\n",
       "╞════════════════════╪═════════════════╪══════════════════════════╪══════════╪═══════════════╪═════════════════════════╡\n",
       "│ 0                  ┆ 1467810672      ┆ Mon Apr 06 22:19:49 PDT  ┆ NO_QUERY ┆ scotthamilton ┆ is upset that he can't  │\n",
       "│                    ┆                 ┆ 2009                     ┆          ┆               ┆ update hi…              │\n",
       "│ 0                  ┆ 1467810917      ┆ Mon Apr 06 22:19:53 PDT  ┆ NO_QUERY ┆ mattycus      ┆ @Kenichan I dived many  │\n",
       "│                    ┆                 ┆ 2009                     ┆          ┆               ┆ times for…              │\n",
       "│ 0                  ┆ 1467811184      ┆ Mon Apr 06 22:19:57 PDT  ┆ NO_QUERY ┆ ElleCTF       ┆ my whole body feels     │\n",
       "│                    ┆                 ┆ 2009                     ┆          ┆               ┆ itchy and li…           │\n",
       "│ 0                  ┆ 1467811193      ┆ Mon Apr 06 22:19:57 PDT  ┆ NO_QUERY ┆ Karoli        ┆ @nationwideclass no,    │\n",
       "│                    ┆                 ┆ 2009                     ┆          ┆               ┆ it's not be…            │\n",
       "│ 0                  ┆ 1467811372      ┆ Mon Apr 06 22:20:00 PDT  ┆ NO_QUERY ┆ joy_wolf      ┆ @Kwesidei not the whole │\n",
       "│                    ┆                 ┆ 2009                     ┆          ┆               ┆ crew                    │\n",
       "└────────────────────┴─────────────────┴──────────────────────────┴──────────┴───────────────┴─────────────────────────┘"
      ]
     },
     "execution_count": 48,
     "metadata": {},
     "output_type": "execute_result"
    }
   ],
   "source": [
    "df.head()"
   ]
  },
  {
   "cell_type": "markdown",
   "id": "7efd723f",
   "metadata": {},
   "source": [
    "# 2. Data Preprocessing"
   ]
  },
  {
   "cell_type": "markdown",
   "id": "445ed856",
   "metadata": {},
   "source": [
    "## 2.1 Data cleaning"
   ]
  },
  {
   "cell_type": "code",
   "execution_count": 74,
   "id": "222fb504",
   "metadata": {},
   "outputs": [
    {
     "data": {
      "text/html": [
       "<div><style>\n",
       ".dataframe > thead > tr > th,\n",
       ".dataframe > tbody > tr > td {\n",
       "  text-align: right;\n",
       "  white-space: pre-wrap;\n",
       "}\n",
       "</style>\n",
       "<small>shape: (1, 6)</small><table border=\"1\" class=\"dataframe\"><thead><tr><th>polarity</th><th>id</th><th>date</th><th>query</th><th>user</th><th>text</th></tr><tr><td>u32</td><td>u32</td><td>u32</td><td>u32</td><td>u32</td><td>u32</td></tr></thead><tbody><tr><td>0</td><td>0</td><td>0</td><td>0</td><td>0</td><td>0</td></tr></tbody></table></div>"
      ],
      "text/plain": [
       "shape: (1, 6)\n",
       "┌──────────┬─────┬──────┬───────┬──────┬──────┐\n",
       "│ polarity ┆ id  ┆ date ┆ query ┆ user ┆ text │\n",
       "│ ---      ┆ --- ┆ ---  ┆ ---   ┆ ---  ┆ ---  │\n",
       "│ u32      ┆ u32 ┆ u32  ┆ u32   ┆ u32  ┆ u32  │\n",
       "╞══════════╪═════╪══════╪═══════╪══════╪══════╡\n",
       "│ 0        ┆ 0   ┆ 0    ┆ 0     ┆ 0    ┆ 0    │\n",
       "└──────────┴─────┴──────┴───────┴──────┴──────┘"
      ]
     },
     "execution_count": 74,
     "metadata": {},
     "output_type": "execute_result"
    }
   ],
   "source": [
    "df.null_count()\n",
    "# No null data"
   ]
  },
  {
   "cell_type": "code",
   "execution_count": 54,
   "id": "92b97665",
   "metadata": {},
   "outputs": [],
   "source": [
    "# Rename columns\n",
    "df.columns = ['polarity', 'id', 'date', 'query', 'user', 'text']"
   ]
  },
  {
   "cell_type": "markdown",
   "id": "78832bc8",
   "metadata": {},
   "source": [
    "## 2.2 Remove punctuations and special characters "
   ]
  },
  {
   "cell_type": "code",
   "execution_count": 75,
   "id": "6d6e07a7",
   "metadata": {},
   "outputs": [
    {
     "data": {
      "text/html": [
       "<div><style>\n",
       ".dataframe > thead > tr > th,\n",
       ".dataframe > tbody > tr > td {\n",
       "  text-align: right;\n",
       "  white-space: pre-wrap;\n",
       "}\n",
       "</style>\n",
       "<small>shape: (5, 6)</small><table border=\"1\" class=\"dataframe\"><thead><tr><th>polarity</th><th>id</th><th>date</th><th>query</th><th>user</th><th>text</th></tr><tr><td>i64</td><td>i64</td><td>str</td><td>str</td><td>str</td><td>str</td></tr></thead><tbody><tr><td>0</td><td>1467810672</td><td>&quot;Mon Apr 06 22:…</td><td>&quot;NO_QUERY&quot;</td><td>&quot;scotthamilton&quot;</td><td>&quot;is upset that …</td></tr><tr><td>0</td><td>1467810917</td><td>&quot;Mon Apr 06 22:…</td><td>&quot;NO_QUERY&quot;</td><td>&quot;mattycus&quot;</td><td>&quot;Kenichan I div…</td></tr><tr><td>0</td><td>1467811184</td><td>&quot;Mon Apr 06 22:…</td><td>&quot;NO_QUERY&quot;</td><td>&quot;ElleCTF&quot;</td><td>&quot;my whole body …</td></tr><tr><td>0</td><td>1467811193</td><td>&quot;Mon Apr 06 22:…</td><td>&quot;NO_QUERY&quot;</td><td>&quot;Karoli&quot;</td><td>&quot;nationwideclas…</td></tr><tr><td>0</td><td>1467811372</td><td>&quot;Mon Apr 06 22:…</td><td>&quot;NO_QUERY&quot;</td><td>&quot;joy_wolf&quot;</td><td>&quot;Kwesidei not t…</td></tr></tbody></table></div>"
      ],
      "text/plain": [
       "shape: (5, 6)\n",
       "┌──────────┬────────────┬──────────────────────────────┬──────────┬───────────────┬───────────────────────────────────┐\n",
       "│ polarity ┆ id         ┆ date                         ┆ query    ┆ user          ┆ text                              │\n",
       "│ ---      ┆ ---        ┆ ---                          ┆ ---      ┆ ---           ┆ ---                               │\n",
       "│ i64      ┆ i64        ┆ str                          ┆ str      ┆ str           ┆ str                               │\n",
       "╞══════════╪════════════╪══════════════════════════════╪══════════╪═══════════════╪═══════════════════════════════════╡\n",
       "│ 0        ┆ 1467810672 ┆ Mon Apr 06 22:19:49 PDT 2009 ┆ NO_QUERY ┆ scotthamilton ┆ is upset that he cant update his… │\n",
       "│ 0        ┆ 1467810917 ┆ Mon Apr 06 22:19:53 PDT 2009 ┆ NO_QUERY ┆ mattycus      ┆ Kenichan I dived many times for … │\n",
       "│ 0        ┆ 1467811184 ┆ Mon Apr 06 22:19:57 PDT 2009 ┆ NO_QUERY ┆ ElleCTF       ┆ my whole body feels itchy and li… │\n",
       "│ 0        ┆ 1467811193 ┆ Mon Apr 06 22:19:57 PDT 2009 ┆ NO_QUERY ┆ Karoli        ┆ nationwideclass no its not behav… │\n",
       "│ 0        ┆ 1467811372 ┆ Mon Apr 06 22:20:00 PDT 2009 ┆ NO_QUERY ┆ joy_wolf      ┆ Kwesidei not the whole crew       │\n",
       "└──────────┴────────────┴──────────────────────────────┴──────────┴───────────────┴───────────────────────────────────┘"
      ]
     },
     "execution_count": 75,
     "metadata": {},
     "output_type": "execute_result"
    }
   ],
   "source": [
    "import string\n",
    "df = df.with_columns(pl.col('text').map_elements(lambda x: x.translate(str.maketrans('', '', string.punctuation))))\n",
    "df.head()"
   ]
  }
 ],
 "metadata": {
  "kernelspec": {
   "display_name": "Python 3 (ipykernel)",
   "language": "python",
   "name": "python3"
  },
  "language_info": {
   "codemirror_mode": {
    "name": "ipython",
    "version": 3
   },
   "file_extension": ".py",
   "mimetype": "text/x-python",
   "name": "python",
   "nbconvert_exporter": "python",
   "pygments_lexer": "ipython3",
   "version": "3.9.13"
  }
 },
 "nbformat": 4,
 "nbformat_minor": 5
}
